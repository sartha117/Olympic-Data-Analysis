{
  "nbformat": 4,
  "nbformat_minor": 0,
  "metadata": {
    "colab": {
      "name": "Olympic.ipynb",
      "provenance": [],
      "collapsed_sections": []
    },
    "kernelspec": {
      "name": "python3",
      "display_name": "Python 3"
    }
  },
  "cells": [
    {
      "cell_type": "code",
      "metadata": {
        "colab": {
          "base_uri": "https://localhost:8080/"
        },
        "id": "gSWlpm_RGPyO",
        "outputId": "2cbdcb1c-1c73-46d0-b121-0e7c96f27154"
      },
      "source": [
        "!pip install pyspark\n"
      ],
      "execution_count": null,
      "outputs": [
        {
          "output_type": "stream",
          "text": [
            "Collecting pyspark\n",
            "\u001b[?25l  Downloading https://files.pythonhosted.org/packages/f0/26/198fc8c0b98580f617cb03cb298c6056587b8f0447e20fa40c5b634ced77/pyspark-3.0.1.tar.gz (204.2MB)\n",
            "\u001b[K     |████████████████████████████████| 204.2MB 76kB/s \n",
            "\u001b[?25hCollecting py4j==0.10.9\n",
            "\u001b[?25l  Downloading https://files.pythonhosted.org/packages/9e/b6/6a4fb90cd235dc8e265a6a2067f2a2c99f0d91787f06aca4bcf7c23f3f80/py4j-0.10.9-py2.py3-none-any.whl (198kB)\n",
            "\u001b[K     |████████████████████████████████| 204kB 31.3MB/s \n",
            "\u001b[?25hBuilding wheels for collected packages: pyspark\n",
            "  Building wheel for pyspark (setup.py) ... \u001b[?25l\u001b[?25hdone\n",
            "  Created wheel for pyspark: filename=pyspark-3.0.1-py2.py3-none-any.whl size=204612243 sha256=708273b81d9c0e736dd3f58c8bad8ea5bc9a96f733416f88a43ec04f2ea30719\n",
            "  Stored in directory: /root/.cache/pip/wheels/5e/bd/07/031766ca628adec8435bb40f0bd83bb676ce65ff4007f8e73f\n",
            "Successfully built pyspark\n",
            "Installing collected packages: py4j, pyspark\n",
            "Successfully installed py4j-0.10.9 pyspark-3.0.1\n"
          ],
          "name": "stdout"
        }
      ]
    },
    {
      "cell_type": "code",
      "metadata": {
        "id": "XpH_vMgBH_CF"
      },
      "source": [
        "from __future__ import division\n",
        "from pyspark import SparkConf, SparkContext, SQLContext\n",
        "import pyspark.sql.functions as F\n"
      ],
      "execution_count": null,
      "outputs": []
    },
    {
      "cell_type": "code",
      "metadata": {
        "colab": {
          "base_uri": "https://localhost:8080/"
        },
        "id": "82CzS02SIQ0w",
        "outputId": "6191bd8b-d59e-4be4-d950-a1dd9dfcfb2d"
      },
      "source": [
        "!pip install pandas\n"
      ],
      "execution_count": null,
      "outputs": [
        {
          "output_type": "stream",
          "text": [
            "Requirement already satisfied: pandas in /usr/local/lib/python3.6/dist-packages (1.1.4)\n",
            "Requirement already satisfied: pytz>=2017.2 in /usr/local/lib/python3.6/dist-packages (from pandas) (2018.9)\n",
            "Requirement already satisfied: python-dateutil>=2.7.3 in /usr/local/lib/python3.6/dist-packages (from pandas) (2.8.1)\n",
            "Requirement already satisfied: numpy>=1.15.4 in /usr/local/lib/python3.6/dist-packages (from pandas) (1.18.5)\n",
            "Requirement already satisfied: six>=1.5 in /usr/local/lib/python3.6/dist-packages (from python-dateutil>=2.7.3->pandas) (1.15.0)\n"
          ],
          "name": "stdout"
        }
      ]
    },
    {
      "cell_type": "code",
      "metadata": {
        "id": "Hw3s_2TvIYVh"
      },
      "source": [
        "import matplotlib.pyplot as plt\n",
        "import pandas as pd"
      ],
      "execution_count": null,
      "outputs": []
    },
    {
      "cell_type": "code",
      "metadata": {
        "id": "g8EZYiI0Ib-6"
      },
      "source": [
        "conf = SparkConf().setMaster(\"local[*]\")\n",
        "sc = SparkContext(conf=conf)\n",
        "sqlContext = SQLContext(sc)"
      ],
      "execution_count": null,
      "outputs": []
    },
    {
      "cell_type": "code",
      "metadata": {
        "id": "f3T0iHDLIhUb"
      },
      "source": [
        "df = sqlContext.read.csv('athlete_events.csv', header=True)"
      ],
      "execution_count": null,
      "outputs": []
    },
    {
      "cell_type": "code",
      "metadata": {
        "id": "xiCYQjSSOPVC"
      },
      "source": [
        "df_performance = df.select(['NOC', 'Medal']).filter(~df['Medal'].isin(['Gold', 'Silver', 'Bronze']) == False).\n",
        "groupby(['NOC', 'Medal']).count().orderBy('NOC', 'Medal')"
      ],
      "execution_count": null,
      "outputs": []
    },
    {
      "cell_type": "code",
      "metadata": {
        "colab": {
          "base_uri": "https://localhost:8080/"
        },
        "id": "MSbwwrMfO6ub",
        "outputId": "67d8bfb6-a112-4949-a35c-c64896913d62"
      },
      "source": [
        "df_performance.show()"
      ],
      "execution_count": null,
      "outputs": [
        {
          "output_type": "stream",
          "text": [
            "+---+------+-----+\n",
            "|NOC| Medal|count|\n",
            "+---+------+-----+\n",
            "|AHO|Silver|    1|\n",
            "|ALG|Bronze|    2|\n",
            "|ALG|  Gold|    1|\n",
            "|ALG|Silver|    2|\n",
            "|ANZ|Bronze|    2|\n",
            "|ANZ|  Gold|    3|\n",
            "|ANZ|Silver|    3|\n",
            "|ARG|Bronze|   16|\n",
            "|ARG|  Gold|   11|\n",
            "|ARG|Silver|   19|\n",
            "|ARM|Bronze|    2|\n",
            "|ARM|  Gold|    1|\n",
            "|ARM|Silver|    1|\n",
            "|AUS|Bronze|   87|\n",
            "|AUS|  Gold|   47|\n",
            "|AUS|Silver|   72|\n",
            "|AUT|Bronze|    6|\n",
            "|AUT|  Gold|    8|\n",
            "|AUT|Silver|   15|\n",
            "|AZE|Bronze|    5|\n",
            "+---+------+-----+\n",
            "only showing top 20 rows\n",
            "\n"
          ],
          "name": "stdout"
        }
      ]
    },
    {
      "cell_type": "code",
      "metadata": {
        "colab": {
          "base_uri": "https://localhost:8080/"
        },
        "id": "_2l5dmTFPJS9",
        "outputId": "a679f441-a7ae-47dd-caba-73132d6bdf5e"
      },
      "source": [
        "df_bmi = df.select(['Year','Weight','Height'])\n",
        "df_bmi = df_bmi.filter(~df_bmi['Height'].isin(['NA']) == True)\n",
        "df_bmi = df_bmi.filter(~df_bmi['Year'].isin([x for x in range(1900, 2017)]) == False)\n",
        "df_bmi_avg = df_bmi.withColumn(\"BMI\", F.col('Weight')/(F.col('Height')/100)**2).select(['Year','BMI']).groupby('Year').avg()\n",
        "df_bmi_avg = df_bmi_avg.orderBy('Year')\n",
        "df_bmi_avg.show()"
      ],
      "execution_count": null,
      "outputs": [
        {
          "output_type": "stream",
          "text": [
            "+----+------------------+\n",
            "|Year|          avg(BMI)|\n",
            "+----+------------------+\n",
            "|1900|27.757487216946675|\n",
            "|1904| 21.63186790149742|\n",
            "|1906|22.882972491691703|\n",
            "|1908|23.650597084429958|\n",
            "|1912|22.724233045635465|\n",
            "|1920| 23.17853025170637|\n",
            "|1924|23.370463021632947|\n",
            "|1928|22.280582934439167|\n",
            "|1932|23.438062458132315|\n",
            "|1936|22.791167518844507|\n",
            "|1948|23.063659726311343|\n",
            "|1952| 23.45656549567396|\n",
            "|1956|23.611457971043507|\n",
            "|1960|22.950775690842296|\n",
            "|1964|22.824364923825573|\n",
            "|1968|22.618188985743274|\n",
            "|1972|22.692729816825086|\n",
            "|1976|22.790800677838096|\n",
            "|1980| 22.80151509668998|\n",
            "|1984|22.687699253011786|\n",
            "+----+------------------+\n",
            "only showing top 20 rows\n",
            "\n"
          ],
          "name": "stdout"
        }
      ]
    },
    {
      "cell_type": "code",
      "metadata": {
        "id": "jUa07MyAQlrp"
      },
      "source": [
        "df_bmi = df.select(['Year','Weight','Height'])\n",
        "df_bmi = df_bmi.filter(~df_bmi['Height'].isin(['NA']) == True) # Cleaning NA values\n",
        "df_bmi = df_bmi.filter(~df_bmi['Year'].isin([x for x in range(1900, 2017)]) == False) # Cleaning Non Integer values\n",
        "df_bmi_avg = df_bmi.withColumn(\"BMI\", F.col('Weight')/(F.col('Height')/100)**2).select(['Year','BMI']).groupby('Year').avg()\n",
        "df_bmi_avg = df_bmi_avg.orderBy('Year')"
      ],
      "execution_count": null,
      "outputs": []
    }
  ]
}